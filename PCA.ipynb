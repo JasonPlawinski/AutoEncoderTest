{
 "cells": [
  {
   "cell_type": "code",
   "execution_count": 50,
   "metadata": {},
   "outputs": [],
   "source": [
    "import numpy as np\n",
    "import matplotlib.pyplot as plt\n",
    "import sklearn\n",
    "from sklearn.decomposition import PCA, KernelPCA\n",
    "\n",
    "import torch\n",
    "import torch.nn as nn\n",
    "from torchvision import transforms, datasets\n",
    "%matplotlib inline"
   ]
  },
  {
   "cell_type": "code",
   "execution_count": 51,
   "metadata": {},
   "outputs": [
    {
     "name": "stdout",
     "output_type": "stream",
     "text": [
      "0\n",
      "5000\n"
     ]
    }
   ],
   "source": [
    "mnist_train = datasets.MNIST('./',train=True, download=True, transform=transforms.ToTensor())\n",
    "train_loader = torch.utils.data.DataLoader(dataset=mnist_train,batch_size=1,shuffle=True)\n",
    "mnist_test = datasets.MNIST('./',train=False, download=True, transform=transforms.ToTensor())\n",
    "test_loader = torch.utils.data.DataLoader(dataset=mnist_train,batch_size=1,shuffle=True)\n",
    "\n",
    "InitialData = np.zeros([10000,784])\n",
    "label = np.zeros(10000)\n",
    "for i in range(10000):\n",
    "    if i%5000 == 0:\n",
    "        print(i)\n",
    "    pair = iter(train_loader).next()\n",
    "    InitialData[i][:] = pair[0].view(784).cpu().numpy()\n",
    "    label[i] = pair[1].cpu().numpy()"
   ]
  },
  {
   "cell_type": "code",
   "execution_count": 52,
   "metadata": {},
   "outputs": [],
   "source": [
    "pca = PCA(2, False)\n",
    "X_pca = pca.fit_transform(InitialData)"
   ]
  },
  {
   "cell_type": "code",
   "execution_count": 53,
   "metadata": {},
   "outputs": [
    {
     "data": {
      "text/plain": [
       "(10000, 2)"
      ]
     },
     "execution_count": 53,
     "metadata": {},
     "output_type": "execute_result"
    }
   ],
   "source": [
    "X_pca.shape"
   ]
  },
  {
   "cell_type": "code",
   "execution_count": 54,
   "metadata": {},
   "outputs": [],
   "source": [
    "List0x = []\n",
    "List0y = []\n",
    "List1x = []\n",
    "List1y = []\n",
    "List2x = []\n",
    "List2y = []\n",
    "List3x = []\n",
    "List3y = []\n",
    "List4x = []\n",
    "List4y = []\n",
    "List5x = []\n",
    "List5y = []\n",
    "\n",
    "for i in range(400):\n",
    "    coorformat0 = X_pca[i][0]\n",
    "    coorformat1 = X_pca[i][1]\n",
    "    if label[i] == 0:\n",
    "        List0x.append(coorformat0)\n",
    "        List0y.append(coorformat1)\n",
    "    if label[i] == 1:\n",
    "        List1x.append(coorformat0)\n",
    "        List1y.append(coorformat1)\n",
    "    if label[i] == 2:\n",
    "        List2x.append(coorformat0)\n",
    "        List2y.append(coorformat1)\n",
    "    if label[i] == 3:\n",
    "        List3x.append(coorformat0)\n",
    "        List3y.append(coorformat1)\n",
    "    if label[i] == 4:\n",
    "        List4x.append(coorformat0)\n",
    "        List4y.append(coorformat1)\n",
    "    if label[i] == 5:\n",
    "        List5x.append(coorformat0)\n",
    "        List5y.append(coorformat1)"
   ]
  },
  {
   "cell_type": "code",
   "execution_count": 55,
   "metadata": {},
   "outputs": [
    {
     "data": {
      "image/png": "[encoded data removed]",
      "text/plain": [
       "<Figure size 432x288 with 1 Axes>"
      ]
     },
     "metadata": {},
     "output_type": "display_data"
    }
   ],
   "source": [
    "plt.scatter(List0x,List0y,label='0', s=20)\n",
    "plt.scatter(List1x,List1y,label='1', s=20)\n",
    "plt.scatter(List2x,List2y,label='2', s=20)\n",
    "plt.scatter(List3x,List3y,label='3', s=20)\n",
    "plt.scatter(List4x,List4y,label='4', s=20)\n",
    "plt.scatter(List5x,List5y,label='5', s=20)\n",
    "plt.legend()\n",
    "plt.savefig('PCA.png',dpi = 300)\n",
    "plt.show()"
   ]
  },
  {
   "cell_type": "code",
   "execution_count": 56,
   "metadata": {},
   "outputs": [],
   "source": [
    "b = pca.inverse_transform(X_pca)"
   ]
  },
  {
   "cell_type": "code",
   "execution_count": 82,
   "metadata": {
    "scrolled": false
   },
   "outputs": [
    {
     "data": {
      "image/png": "[encoded data removed]",
      "text/plain": [
       "<Figure size 432x288 with 1 Axes>"
      ]
     },
     "metadata": {},
     "output_type": "display_data"
    }
   ],
   "source": [
    "plt.imshow(InitialData[21].reshape([28,28]),'gray', vmin=0, vmax = 1)\n",
    "plt.axis('off')\n",
    "plt.savefig('PCAdigits.png',interpolation = 'Nearest' ,dpi = 300)"
   ]
  },
  {
   "cell_type": "code",
   "execution_count": 63,
   "metadata": {},
   "outputs": [
    {
     "data": {
      "image/png": "[encoded data removed]",
      "text/plain": [
       "<Figure size 432x288 with 1 Axes>"
      ]
     },
     "metadata": {},
     "output_type": "display_data"
    }
   ],
   "source": [
    "plt.imshow(b[50].reshape([28,28]),'gray')\n",
    "plt.axis('off')\n",
    "plt.savefig('PCArecon.png',dpi = 300)"
   ]
  },
  {
   "cell_type": "code",
   "execution_count": null,
   "metadata": {},
   "outputs": [],
   "source": []
  }
 ],
 "metadata": {
  "kernelspec": {
   "display_name": "Python 3",
   "language": "python",
   "name": "python3"
  },
  "language_info": {
   "codemirror_mode": {
    "name": "ipython",
    "version": 3
   },
   "file_extension": ".py",
   "mimetype": "text/x-python",
   "name": "python",
   "nbconvert_exporter": "python",
   "pygments_lexer": "ipython3",
   "version": "3.6.5"
  }
 },
 "nbformat": 4,
 "nbformat_minor": 2
}
